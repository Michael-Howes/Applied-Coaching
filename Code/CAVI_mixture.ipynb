{
 "cells": [
  {
   "cell_type": "markdown",
   "metadata": {},
   "source": [
    "## CAVI for a mixture of Gaussians\n",
    "\n",
    "Here we use CAVI to estimate the posterior distribution of the parameters in a Gaussian mixture model as seen in class. The model is\n",
    "\n",
    "\\begin{align*}\n",
    "    \\pi & \\sim \\mathrm{Beta}(\\alpha,\\beta)\\\\\n",
    "    \\mu & \\sim \\mathcal{N}(\\eta_1, \\sigma_1^2)\\\\\n",
    "    Z_n  |  \\pi & \\sim \\mathrm{Bern}(\\pi) \\text{ for } n =1,\\ldots,N\\\\\n",
    "    X_n  |  Z_n=1, \\mu & \\sim \\mathcal{N}(\\mu, 1) \\text{ for } n = 1,\\ldots,N\\\\\n",
    "    X_n  |  Z_n=0, \\mu & \\sim \\mathcal{N}(0, 1) \\text{ for } n = 1,\\ldots,N.\n",
    "\\end{align*}\n",
    "\n",
    "The parameters are $\\pi$, $\\mu$ and $Z=(Z_1,\\ldots,Z_N)$. The complete conditionals are\n",
    "\n",
    "\\begin{align*}\n",
    "    p(\\pi|\\mu,Z,X)&=\\mathrm{Beta}(\\pi;\\alpha+N_1,\\beta+(N-N_1))\\nonumber \\\\\n",
    "    p(\\mu|\\pi,Z,X)&=\\mathcal{N}(\\mu; \\tilde{\\eta}_1,\\tilde{\\sigma}_1^2)\\nonumber \\\\\n",
    "    p(z_n|\\pi,\\mu,Z_{-n},X)&=\\mathrm{Bern}(\\omega_{n}) \\quad \\text{for } n=1,\\ldots,N.\n",
    "\\end{align*}\n",
    "where\n",
    "\\begin{align*}\n",
    "N_1&=\\sum_{n=1}^N Z_n\\\\\n",
    "\\bar{X}_1 &=\\frac{1}{N_1}\\sum_{n=1}^N Z_nX_n\\\\\n",
    "\\tilde{\\sigma}_1^2 &= \\left(\\frac{1}{\\sigma_1^2}+N_1\\right)^{-1}\\\\\n",
    "\\tilde{\\eta}_1&= \\tilde{\\sigma}_1^2\\left(\\frac{\\eta_1}{\\sigma_1^2}+N_1\\bar{X}_1\\right)\\\\\n",
    "\\omega_n &= \\frac{\\pi \\mathcal{N}(x_n;\\mu,1)}{\\pi\\mathcal{N}(x_n;\\mu,1)+(1-\\pi)\\mathcal{N}(x_n;0,1)}\n",
    "\\end{align*}\n",
    "The variational distributions are in the same family as the complete conditionals, they are\n",
    "\\begin{align*}\n",
    "    q_\\pi(\\pi)&=\\mathrm{Beta}(\\pi;a,b)\\\\\n",
    "    q_\\mu(\\mu)&=\\mathcal{N}(\\mu;\\lambda,\\tau^2)\\\\\n",
    "    q_{Z_n}(z_n)&=\\mathrm{Bern}(\\rho_n).\n",
    "\\end{align*}\n",
    "where $a,b,\\lambda,\\tau^2$ and $\\rho_n \\in \\mathbb{R}^N$ are the *variational parameters*. The CAVI updates are:\n",
    "* For $\\pi$,\n",
    "\n",
    "    \\begin{align*}\n",
    "        a^\\text{new} &=\\alpha + \\sum_{n=1}^N \\rho_n^{\\text{old}}\\\\\n",
    "        b^\\text{new} &=\\beta + \\sum_{n=1}^N 1-\\rho_n^{\\text{old}}\\\\\n",
    "    \\end{align*}\n",
    "\n",
    "* For $\\mu$,\n",
    "\n",
    "    \\begin{align*}\n",
    "        \\tau^2_{\\text{new}} &=\\left(\\frac{1}{\\sigma_1^2}+\\sum_{n=1}^N \\rho_n^{\\text{old}}\\right)^{-1}\\\\\n",
    "    \\lambda_{\\text{new}} &= \\tau^2_{\\text{new}}\\left(\\frac{\\eta_1}{\\sigma_1^2}+\\sum_{n=1}^N q_Z(z_n=1)x_n\\right)\n",
    "    \\end{align*}\n",
    "\n",
    "* For $\\rho_n$,\n",
    "\n",
    "    \\begin{align*}\n",
    "        \\rho_n^{\\text{new}} &=\\frac{\\exp\\left(\\psi(a^{\\text{old}})-\\frac{1}{2}(x_n-\\lambda_{\\text{old}})+\\tau^2_{\\text{old}}\\right)}{\\exp\\left(\\psi(a^{\\text{old}})-\\frac{1}{2}(x_n-\\lambda_{\\text{old}})+\\tau^2_{\\text{old}}\\right) + \\exp\\left(\\psi(b^\\text{old})-\\frac{1}{2}x_n^2\\right)},\n",
    "    \\end{align*}\n",
    "    \n",
    "    where $\\psi$ is the digamma function.\n",
    "\n",
    "The ELBO as a function of $a,b,\\lambda,\\tau^2$ and $\\rho$ is,\n",
    "\n",
    "\\begin{align*}\n",
    "\\mathcal{L}[q] &=D_{KL}\\left(\\mathrm{Beta}(a,b)||\\mathrm{Beta}(\\alpha,\\beta)\\right)-D_{KL}(\\mathcal{N}(\\lambda,\\tau^2)||\\mathcal{N}(\\eta_1,\\sigma_1^2))\\\\\n",
    "    &+\\sum_{n=1}^N \\rho_n\\left(\\psi(a)-\\psi(a+b)-\\frac{1}{2}\\left((x_n-\\lambda)^2 + \\tau^2\\right)-\\log\\rho_n\\right)\\\\\n",
    "    &+\\sum_{n=1}^N (1-\\rho_n)\\left(\\psi(b)-\\psi(a+b) - \\frac{1}{2}x_n^2-\\log(1-\\rho_n)\\right)\n",
    "\\end{align*}\n",
    "\n",
    "In this notebook we will implement the above CAVI updates and get the CAVI estimate for simulated data."
   ]
  },
  {
   "cell_type": "code",
   "execution_count": null,
   "metadata": {},
   "outputs": [],
   "source": [
    "import torch\n",
    "from torch.distributions import Beta, Normal\n",
    "from torch.distributions.kl import kl_divergence\n",
    "import matplotlib.pyplot as plt\n",
    "from scipy.stats import beta"
   ]
  },
  {
   "cell_type": "markdown",
   "metadata": {},
   "source": [
    "First we will simulate some data."
   ]
  },
  {
   "cell_type": "code",
   "execution_count": null,
   "metadata": {},
   "outputs": [
    {
     "name": "stdout",
     "output_type": "stream",
     "text": [
      "Group 0 Mean: tensor(-0.1545)\n",
      "Group 1 Mean: tensor(1.5134)\n"
     ]
    },
    {
     "data": {
      "text/plain": [
       "<matplotlib.collections.PathCollection at 0x1ffa97ba890>"
      ]
     },
     "execution_count": 47,
     "metadata": {},
     "output_type": "execute_result"
    },
    {
     "data": {
      "image/png": "[encoded data removed]",
      "text/plain": [
       "<Figure size 640x480 with 1 Axes>"
      ]
     },
     "metadata": {},
     "output_type": "display_data"
    }
   ],
   "source": [
    "N = 200\n",
    "pi_true = 0.7\n",
    "mu_true = 1.5\n",
    "Z_true = torch.distributions.Bernoulli(pi_true).sample((N,))\n",
    "X = Normal(Z_true*mu_true, 1).sample((1,)).squeeze(0)\n",
    "print(\"Group 0 Mean:\", ((1-Z_true)*X).sum()/((1-Z_true).sum()))\n",
    "print(\"Group 1 Mean:\", (Z_true*X).sum()/(Z_true.sum()))\n",
    "plt.scatter(Z_true, X, c = Z_true)"
   ]
  },
  {
   "cell_type": "markdown",
   "metadata": {},
   "source": [
    "Next we write functions for the three CAVI steps."
   ]
  },
  {
   "cell_type": "code",
   "execution_count": null,
   "metadata": {},
   "outputs": [],
   "source": [
    "def CAVI_step_pi(rho, alpha, beta):\n",
    "    \"\"\"\n",
    "    Performs the CAVI step for pi.\n",
    "\n",
    "    Inputs:\n",
    "        rho : variational parameters for Z\n",
    "        alpha, beta: hyper parameters for pi\n",
    "\n",
    "    Outputs:\n",
    "        a, b: new variational parameters for pi\n",
    "    \"\"\"\n",
    "\n",
    "    return((alpha + rho.sum(), beta + (1-rho).sum()))\n",
    "\n",
    "def CAVI_step_mu(rho, data,  eta_1, sigma_1_sq):\n",
    "    \"\"\"\n",
    "    Performs the CAVI step for mu.\n",
    "\n",
    "    Inputs:\n",
    "        rho : variational parameters for Z\n",
    "        data : the observed data X\n",
    "        eta_1, sigma_1_sq : hyper parameters for pi\n",
    "\n",
    "    Outputs:\n",
    "        lamb, tau_sq: new variational parameters for mu\n",
    "    \"\"\"\n",
    "\n",
    "    tau_sq_inv = 1/sigma_1_sq + rho.sum() \n",
    "    lamb = (eta_1/sigma_1_sq + (rho*data).sum())/tau_sq_inv\n",
    "    return((lamb, 1/tau_sq_inv))\n",
    "\n",
    "def CAVI_step_Z(a, b, lamb, tau_sq, data):\n",
    "    \"\"\"\n",
    "    Performs the CAVI step for mu.\n",
    "\n",
    "    Inputs:\n",
    "        a,b : variational parameters for pi\n",
    "        lamb, tau_sq : variational parameters for mu\n",
    "        data : the observed data X\n",
    "\n",
    "    Outputs:\n",
    "        rho : new variational parameters for Z\n",
    "    \"\"\"\n",
    "\n",
    "    digamma_ab = torch.special.digamma(torch.vstack([a,b]))\n",
    "    bias = torch.vstack([X-lamb, X])\n",
    "    var = torch.vstack([tau_sq, torch.zeros(1)])\n",
    "    logits = digamma_ab - 0.5*(bias**2 + var)\n",
    "    rho = torch.special.softmax(logits, axis =0)[0,:]\n",
    "\n",
    "    return(rho)\n",
    "\n"
   ]
  },
  {
   "cell_type": "markdown",
   "metadata": {},
   "source": [
    "We also need to track the ELBO."
   ]
  },
  {
   "cell_type": "code",
   "execution_count": null,
   "metadata": {},
   "outputs": [],
   "source": [
    "def ELBO(data, a, b, lamb, tau_sq, rho, alpha, beta, eta_1, sigma_1_sq): \n",
    "    beta_prior = Beta(alpha, beta)\n",
    "    beta_variational = Beta(a, b)\n",
    "    beta_KLD = kl_divergence(beta_variational, beta_prior)\n",
    "\n",
    "    normal_prior = Normal(eta_1, sigma_1_sq**0.5)\n",
    "    normal_variational = Normal(lamb, tau_sq**0.5)\n",
    "    normal_KLD = kl_divergence(normal_variational, normal_prior)\n",
    "\n",
    "    Z_1_term = rho*(torch.special.digamma(a) - 0.5*((data - lamb)**2 + tau_sq) - torch.log(rho))\n",
    "    Z_0_term = (1-rho)*(torch.special.digamma(b) - 0.5*data**2 - torch.log(1-rho))\n",
    "    \n",
    "    N = data.shape[0]\n",
    "    di_gammas = N*torch.special.digamma(a+b)\n",
    "\n",
    "    return( - beta_KLD - normal_KLD + Z_1_term.sum() + Z_0_term.sum() - di_gammas )\n"
   ]
  },
  {
   "cell_type": "markdown",
   "metadata": {},
   "source": [
    "Next we will define an algorithm that performs the CAVI iterates."
   ]
  },
  {
   "cell_type": "code",
   "execution_count": null,
   "metadata": {},
   "outputs": [],
   "source": [
    "def cavi(data,\n",
    "         num_iter=100, \n",
    "         tol=1e-5, \n",
    "         alpha=torch.tensor([3.0]), \n",
    "         beta =torch.tensor([3.0]),\n",
    "         eta_1=torch.tensor([1.0]),\n",
    "         sigma_1_sq=torch.tensor([2.0]),\n",
    "        ):\n",
    "    \"\"\"Run coordinate ascent VI for the Gaussian Mixture Model.\n",
    "    \n",
    "    \"\"\"\n",
    "    N = data.shape[0]\n",
    "\n",
    "    # Initialize variational distributions at priors\n",
    "    a = alpha\n",
    "    b = beta\n",
    "    lamb = eta_1\n",
    "    tau_sq = sigma_1_sq\n",
    "\n",
    "    rho = Beta(a,b).sample((N,)).squeeze(1)\n",
    "\n",
    "    elbows = [ELBO(data, a, b, lamb, tau_sq, rho, alpha, beta, eta_1, sigma_1_sq)]\n",
    "    for itr in range(num_iter):\n",
    "        # Update variational factors one at a time\n",
    "        a, b = CAVI_step_pi(rho, alpha, beta)\n",
    "        lamb, tau_sq = CAVI_step_mu(rho, X, eta_1, sigma_1_sq)\n",
    "        rho = CAVI_step_Z(a, b, lamb, tau_sq, data)\n",
    "        # Compute the ELBO\n",
    "        elbows.append(ELBO(data, a, b, lamb, tau_sq, rho, alpha, beta, eta_1, sigma_1_sq))\n",
    "        # Check for convergence\n",
    "        if elbows[-1] - elbows[-2] < -tol:\n",
    "            raise Exception(\"ELBO is going down!\")\n",
    "        elif elbows[-1] - elbows[-2] < tol:\n",
    "            print(\"Converged!\")\n",
    "            break\n",
    "\n",
    "    return torch.tensor(elbows), (a, b, lamb, tau_sq, rho)\n",
    "    "
   ]
  },
  {
   "cell_type": "markdown",
   "metadata": {},
   "source": [
    "And now we can try it out"
   ]
  },
  {
   "cell_type": "code",
   "execution_count": null,
   "metadata": {},
   "outputs": [
    {
     "name": "stdout",
     "output_type": "stream",
     "text": [
      "Converged!\n"
     ]
    }
   ],
   "source": [
    "elbows, variational_params = cavi(X, tol = 1e-4)"
   ]
  },
  {
   "cell_type": "markdown",
   "metadata": {},
   "source": [
    "We can plot the elbo to check for convergence."
   ]
  },
  {
   "cell_type": "code",
   "execution_count": null,
   "metadata": {},
   "outputs": [
    {
     "data": {
      "text/plain": [
       "[<matplotlib.lines.Line2D at 0x1ffa98a8310>]"
      ]
     },
     "execution_count": 56,
     "metadata": {},
     "output_type": "execute_result"
    },
    {
     "data": {
      "image/png": "[encoded data removed]",
      "text/plain": [
       "<Figure size 640x480 with 1 Axes>"
      ]
     },
     "metadata": {},
     "output_type": "display_data"
    }
   ],
   "source": [
    "plt.plot(elbows)"
   ]
  },
  {
   "cell_type": "markdown",
   "metadata": {},
   "source": [
    "We can also make a scatter plot of $(\\rho,X)$ colored according to the unobserved $Z$ to check our assignments."
   ]
  },
  {
   "cell_type": "code",
   "execution_count": null,
   "metadata": {},
   "outputs": [
    {
     "data": {
      "text/plain": [
       "<matplotlib.collections.PathCollection at 0x1ff97cd72d0>"
      ]
     },
     "execution_count": 57,
     "metadata": {},
     "output_type": "execute_result"
    },
    {
     "data": {
      "image/png": "[encoded data removed]",
      "text/plain": [
       "<Figure size 640x480 with 1 Axes>"
      ]
     },
     "metadata": {},
     "output_type": "display_data"
    }
   ],
   "source": [
    "a,b,lamb, tau_sq, rhos = variational_params\n",
    "plt.scatter(rhos, X, c = Z_true)"
   ]
  },
  {
   "cell_type": "markdown",
   "metadata": {},
   "source": [
    "We can also check if the variational mean $\\lambda$ matches the true $\\mu$, and is the variational expectation of $\\pi$, $\\frac{a}{a+b}$ matches the true value of $\\pi$."
   ]
  },
  {
   "cell_type": "code",
   "execution_count": null,
   "metadata": {},
   "outputs": [
    {
     "name": "stdout",
     "output_type": "stream",
     "text": [
      "True mu: 1.5\n",
      "Variational mean of mu: tensor([1.4119])\n",
      "95% Posterior credible interval: tensor([1.2446, 1.5792]) \n",
      "\n",
      "True pi: 0.7\n",
      "Variational mean of pi: tensor([0.6784])\n",
      "95% Posterior credible interval: tensor([0.6133, 0.7404], dtype=torch.float64)\n"
     ]
    }
   ],
   "source": [
    "print(\"True mu:\", mu_true)\n",
    "print(\"Variational mean of mu:\", lamb)\n",
    "posterior_mu = Normal(lamb, tau_sq.sqrt())\n",
    "CI = posterior_mu.icdf(torch.tensor([0.025, 0.975]))\n",
    "print(\"95% Posterior credible interval:\", CI, \"\\n\")\n",
    "\n",
    "\n",
    "print(\"True pi:\", pi_true)\n",
    "print(\"Variational mean of pi:\", a/(a+b))\n",
    "CI_pi = torch.tensor([beta.ppf(0.025,a,b)[0], beta.ppf(0.975,a,b)[0]])\n",
    "print(\"95% Posterior credible interval:\", CI_pi)"
   ]
  },
  {
   "cell_type": "markdown",
   "metadata": {},
   "source": [
    "As an exercise, you can calculate the CAVI updates for a mixture of $K$ multivariate Gaussians with spherical covariance matrices. Scott does this in this notebook [https://github.com/slinderman/stats305c/blob/spring2023/notebooks/09_cavi_gmm.ipynb](https://github.com/slinderman/stats305c/blob/spring2023/notebooks/09_cavi_gmm.ipynb)"
   ]
  }
 ],
 "metadata": {
  "kernelspec": {
   "display_name": ".venv",
   "language": "python",
   "name": "python3"
  },
  "language_info": {
   "codemirror_mode": {
    "name": "ipython",
    "version": 3
   },
   "file_extension": ".py",
   "mimetype": "text/x-python",
   "name": "python",
   "nbconvert_exporter": "python",
   "pygments_lexer": "ipython3",
   "version": "3.11.2"
  },
  "orig_nbformat": 4
 },
 "nbformat": 4,
 "nbformat_minor": 2
}
